{
 "cells": [
  {
   "cell_type": "code",
   "execution_count": 2,
   "metadata": {},
   "outputs": [],
   "source": [
    "# import the necessary packages\n",
    "from imutils import paths\n",
    "import face_recognition\n",
    "import argparse\n",
    "import pickle\n",
    "import cv2\n",
    "import os"
   ]
  },
  {
   "cell_type": "code",
   "execution_count": 26,
   "metadata": {},
   "outputs": [],
   "source": [
    "class EncodeFaces:\n",
    "    \n",
    "    def __init__(self, dataset_path=None):\n",
    "        # grab the paths to the input images in our dataset\n",
    "        if dataset_path is not None:\n",
    "            print(\"[INFO] quantifying faces...\")\n",
    "            self.imagePaths = list(paths.list_images(dataset_path))\n",
    "        # initialize the list of known encodings and known names\n",
    "        self.knownEncodings = []\n",
    "        self.knownNames = []\n",
    "        \n",
    "    def encodeFaces(self, detection_method):\n",
    "        # loop over the image paths\n",
    "        for (i, imagePath) in enumerate(self.imagePaths):\n",
    "            # extract the person name from the image path\n",
    "            print(\"[INFO] processing image {}/{}\".format(i + 1,len(self.imagePaths)))\n",
    "            name = imagePath.split(os.path.sep)[-2]\n",
    "\n",
    "            # load the input image and convert it from RGB (OpenCV ordering)\n",
    "            # to dlib ordering (RGB)\n",
    "            image = cv2.imread(imagePath)\n",
    "            rgb = cv2.cvtColor(image, cv2.COLOR_BGR2RGB)\n",
    "\n",
    "            # detect the (x, y)-coordinates of the bounding boxes\n",
    "            # corresponding to each face in the input image\n",
    "            boxes = face_recognition.face_locations(rgb, model=detection_method)\n",
    "\n",
    "            # compute the facial embedding for the face\n",
    "            encodings = face_recognition.face_encodings(rgb, boxes)\n",
    "\n",
    "            # loop over the encodings\n",
    "            for encoding in encodings:\n",
    "                # add each encoding + name to our set of known names and\n",
    "                # encodings\n",
    "                self.knownEncodings.append(encoding)\n",
    "                self.knownNames.append(name)\n",
    "                \n",
    "    def dumpEncoding(self, dump_file_path):\n",
    "        # dump the facial encodings + names to disk\n",
    "        print(\"[INFO] serializing encodings...\")\n",
    "        data = {\"encodings\": self.knownEncodings, \"names\": self.knownNames}\n",
    "        f = open(dump_file_path, \"wb\")\n",
    "        f.write(pickle.dumps(data))\n",
    "        f.close()"
   ]
  },
  {
   "cell_type": "code",
   "execution_count": 30,
   "metadata": {},
   "outputs": [
    {
     "name": "stdout",
     "output_type": "stream",
     "text": [
      "[INFO] quantifying faces...\n",
      "[INFO] processing image 1/38\n",
      "[INFO] processing image 2/38\n",
      "[INFO] processing image 3/38\n",
      "[INFO] processing image 4/38\n",
      "[INFO] processing image 5/38\n",
      "[INFO] processing image 6/38\n",
      "[INFO] processing image 7/38\n",
      "[INFO] processing image 8/38\n",
      "[INFO] processing image 9/38\n",
      "[INFO] processing image 10/38\n",
      "[INFO] processing image 11/38\n",
      "[INFO] processing image 12/38\n",
      "[INFO] processing image 13/38\n",
      "[INFO] processing image 14/38\n",
      "[INFO] processing image 15/38\n",
      "[INFO] processing image 16/38\n",
      "[INFO] processing image 17/38\n",
      "[INFO] processing image 18/38\n",
      "[INFO] processing image 19/38\n",
      "[INFO] processing image 20/38\n",
      "[INFO] processing image 21/38\n",
      "[INFO] processing image 22/38\n",
      "[INFO] processing image 23/38\n",
      "[INFO] processing image 24/38\n",
      "[INFO] processing image 25/38\n",
      "[INFO] processing image 26/38\n",
      "[INFO] processing image 27/38\n",
      "[INFO] processing image 28/38\n",
      "[INFO] processing image 29/38\n",
      "[INFO] processing image 30/38\n",
      "[INFO] processing image 31/38\n",
      "[INFO] processing image 32/38\n",
      "[INFO] processing image 33/38\n",
      "[INFO] processing image 34/38\n",
      "[INFO] processing image 35/38\n",
      "[INFO] processing image 36/38\n",
      "[INFO] processing image 37/38\n",
      "[INFO] processing image 38/38\n",
      "[INFO] serializing encodings...\n"
     ]
    }
   ],
   "source": [
    "obj = EncodeFaces('/home/dai/Documents/pgdai/project/project Data/temp_test_data')\n",
    "obj.encodeFaces(detection_method='cnn')\n",
    "obj.dumpEncoding('/home/dai/Documents/pgdai/project/project Data/cnn_encoding.pickle')"
   ]
  },
  {
   "cell_type": "code",
   "execution_count": 32,
   "metadata": {},
   "outputs": [
    {
     "name": "stderr",
     "output_type": "stream",
     "text": [
      "usage: ipykernel_launcher.py [-h] -i DATASET -e ENCODINGS\n",
      "                             [-d DETECTION_METHOD]\n",
      "ipykernel_launcher.py: error: the following arguments are required: -i/--dataset, -e/--encodings\n"
     ]
    },
    {
     "ename": "SystemExit",
     "evalue": "2",
     "output_type": "error",
     "traceback": [
      "An exception has occurred, use %tb to see the full traceback.\n",
      "\u001b[0;31mSystemExit\u001b[0m\u001b[0;31m:\u001b[0m 2\n"
     ]
    },
    {
     "name": "stderr",
     "output_type": "stream",
     "text": [
      "/home/dai/anaconda3/envs/py_env/lib/python3.7/site-packages/IPython/core/interactiveshell.py:3327: UserWarning: To exit: use 'exit', 'quit', or Ctrl-D.\n",
      "  warn(\"To exit: use 'exit', 'quit', or Ctrl-D.\", stacklevel=1)\n"
     ]
    }
   ],
   "source": [
    "# python face_encoding.py --dataset dataset --encodings encodings.pickle\n",
    "# construct the argument parser and parse the arguments\n",
    "ap = argparse.ArgumentParser()\n",
    "ap.add_argument(\"-i\", \"--dataset\", required=True, \n",
    "                help=\"path to input directory of faces + images\")\n",
    "ap.add_argument(\"-e\", \"--encodings\", required=True, \n",
    "                help=\"path to serialized db of facial encodings\")\n",
    "ap.add_argument(\"-d\", \"--detection-method\", type=str, default=\"cnn\", \n",
    "                help=\"face detection model to use: either `hog` or `cnn`\")\n",
    "args = vars(ap.parse_args())\n",
    "if all(v is not None for v in [args[\"dataset\"], args[\"encodings\"], args[\"detection_method\"]]):\n",
    "    obj = EncodeFaces('/home/dai/Documents/pgdai/project/project Data/temp_test_data')\n",
    "    obj.encodeFaces(detection_method='cnn')\n",
    "    obj.dumpEncoding('/home/dai/Documents/pgdai/project/project Data/cnn_encoding.pickle')"
   ]
  },
  {
   "cell_type": "code",
   "execution_count": null,
   "metadata": {},
   "outputs": [],
   "source": []
  }
 ],
 "metadata": {
  "kernelspec": {
   "display_name": "Python 3",
   "language": "python",
   "name": "python3"
  },
  "language_info": {
   "codemirror_mode": {
    "name": "ipython",
    "version": 3
   },
   "file_extension": ".py",
   "mimetype": "text/x-python",
   "name": "python",
   "nbconvert_exporter": "python",
   "pygments_lexer": "ipython3",
   "version": "3.7.6"
  }
 },
 "nbformat": 4,
 "nbformat_minor": 2
}
