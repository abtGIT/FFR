{
 "cells": [
  {
   "cell_type": "code",
   "execution_count": 9,
   "metadata": {},
   "outputs": [],
   "source": [
    "# import the necessary packages\n",
    "from imutils import paths\n",
    "import face_recognition\n",
    "import argparse\n",
    "import pickle\n",
    "import cv2\n",
    "import os"
   ]
  },
  {
   "cell_type": "code",
   "execution_count": 16,
   "metadata": {},
   "outputs": [],
   "source": [
    "class EncodeFaces:\n",
    "    \n",
    "    def __init__(self, dataset_path=None):\n",
    "        # grab the paths to the input images in our dataset\n",
    "        if dataset_path is not None:\n",
    "            print(\"[INFO] quantifying faces...\")\n",
    "            self.imagePaths = list(paths.list_images(dataset_path))\n",
    "        # initialize the list of known encodings and known names\n",
    "        self.encoded = []\n",
    "        #self.knownNames = []\n",
    "        \n",
    "    def encodeFaces(self, detection_method):\n",
    "        # loop over the image paths\n",
    "        for (i, imagePath) in enumerate(self.imagePaths):\n",
    "            # extract the person name from the image path\n",
    "            print(\"[INFO] processing image {}/{}\".format(i + 1,len(self.imagePaths)))\n",
    "            name = imagePath.split(os.path.sep)[-2]\n",
    "\n",
    "            # load the input image and convert it from RGB (OpenCV ordering)\n",
    "            # to dlib ordering (RGB)\n",
    "            image = cv2.imread(imagePath)\n",
    "            rgb = cv2.cvtColor(image, cv2.COLOR_BGR2RGB)\n",
    "\n",
    "            # detect the (x, y)-coordinates of the bounding boxes\n",
    "            # corresponding to each face in the input image\n",
    "            boxes = face_recognition.face_locations(rgb, model=detection_method)\n",
    "\n",
    "            # compute the facial embedding for the face\n",
    "            encodings = face_recognition.face_encodings(rgb, boxes)\n",
    "\n",
    "            # build a dictionary of the image path, bounding box location,\n",
    "            # and facial encodings for the current image\n",
    "            d = [{\"imagePath\": imagePath, \"loc\": box, \"encoding\": enc, \"names\": name}\n",
    "                     for (box, enc, nm) in zip(boxes, encodings)]\n",
    "            self.encoded.extend(d)\n",
    "                \n",
    "    def dumpEncoding(self, dump_file_path):\n",
    "        # dump the facial encodings + names to disk\n",
    "        print(\"[INFO] serializing encodings...\")\n",
    "        f = open(dump_file_path, \"wb\")\n",
    "        f.write(pickle.dumps(self.encoded))\n",
    "        f.close()"
   ]
  },
  {
   "cell_type": "code",
   "execution_count": 17,
   "metadata": {},
   "outputs": [
    {
     "name": "stdout",
     "output_type": "stream",
     "text": [
      "[INFO] quantifying faces...\n",
      "[INFO] processing image 1/38\n",
      "Tom_Hanks\n",
      "[INFO] processing image 2/38\n",
      "Tom_Hanks\n",
      "[INFO] processing image 3/38\n",
      "Tom_Hanks\n",
      "[INFO] processing image 4/38\n",
      "Tom_Hanks\n",
      "[INFO] processing image 5/38\n",
      "Tom_Hanks\n",
      "[INFO] processing image 6/38\n",
      "Tom_Hanks\n",
      "[INFO] processing image 7/38\n",
      "Tom_Hanks\n",
      "[INFO] processing image 8/38\n",
      "Tom_Hanks\n",
      "[INFO] processing image 9/38\n",
      "Tom_Hanks\n",
      "[INFO] processing image 10/38\n",
      "Tom_Hanks\n",
      "[INFO] processing image 11/38\n",
      "Tom_Cruise\n",
      "[INFO] processing image 12/38\n",
      "Tom_Cruise\n",
      "[INFO] processing image 13/38\n",
      "Tom_Cruise\n",
      "[INFO] processing image 14/38\n",
      "Tom_Cruise\n",
      "[INFO] processing image 15/38\n",
      "Tom_Cruise\n",
      "[INFO] processing image 16/38\n",
      "Tom_Cruise\n",
      "[INFO] processing image 17/38\n",
      "Tom_Cruise\n",
      "[INFO] processing image 18/38\n",
      "Tom_Cruise\n",
      "[INFO] processing image 19/38\n",
      "Tom_Cruise\n",
      "[INFO] processing image 20/38\n",
      "Tom_Cruise\n",
      "[INFO] processing image 21/38\n",
      "Li_Peng\n"
     ]
    },
    {
     "ename": "KeyboardInterrupt",
     "evalue": "",
     "output_type": "error",
     "traceback": [
      "\u001b[0;31m---------------------------------------------------------------------------\u001b[0m",
      "\u001b[0;31mKeyboardInterrupt\u001b[0m                         Traceback (most recent call last)",
      "\u001b[0;32m<ipython-input-17-1e350f11dff9>\u001b[0m in \u001b[0;36m<module>\u001b[0;34m\u001b[0m\n\u001b[1;32m      1\u001b[0m \u001b[0mobj\u001b[0m \u001b[0;34m=\u001b[0m \u001b[0mEncodeFaces\u001b[0m\u001b[0;34m(\u001b[0m\u001b[0;34m'/home/dai/Documents/pgdai/project/project Data/test/temp_train_data/'\u001b[0m\u001b[0;34m)\u001b[0m\u001b[0;34m\u001b[0m\u001b[0;34m\u001b[0m\u001b[0m\n\u001b[0;32m----> 2\u001b[0;31m \u001b[0mobj\u001b[0m\u001b[0;34m.\u001b[0m\u001b[0mencodeFaces\u001b[0m\u001b[0;34m(\u001b[0m\u001b[0mdetection_method\u001b[0m\u001b[0;34m=\u001b[0m\u001b[0;34m'cnn'\u001b[0m\u001b[0;34m)\u001b[0m\u001b[0;34m\u001b[0m\u001b[0;34m\u001b[0m\u001b[0m\n\u001b[0m",
      "\u001b[0;32m<ipython-input-16-893aaabbc562>\u001b[0m in \u001b[0;36mencodeFaces\u001b[0;34m(self, detection_method)\u001b[0m\n\u001b[1;32m     24\u001b[0m             \u001b[0;31m# detect the (x, y)-coordinates of the bounding boxes\u001b[0m\u001b[0;34m\u001b[0m\u001b[0;34m\u001b[0m\u001b[0;34m\u001b[0m\u001b[0m\n\u001b[1;32m     25\u001b[0m             \u001b[0;31m# corresponding to each face in the input image\u001b[0m\u001b[0;34m\u001b[0m\u001b[0;34m\u001b[0m\u001b[0;34m\u001b[0m\u001b[0m\n\u001b[0;32m---> 26\u001b[0;31m             \u001b[0mboxes\u001b[0m \u001b[0;34m=\u001b[0m \u001b[0mface_recognition\u001b[0m\u001b[0;34m.\u001b[0m\u001b[0mface_locations\u001b[0m\u001b[0;34m(\u001b[0m\u001b[0mrgb\u001b[0m\u001b[0;34m,\u001b[0m \u001b[0mmodel\u001b[0m\u001b[0;34m=\u001b[0m\u001b[0mdetection_method\u001b[0m\u001b[0;34m)\u001b[0m\u001b[0;34m\u001b[0m\u001b[0;34m\u001b[0m\u001b[0m\n\u001b[0m\u001b[1;32m     27\u001b[0m \u001b[0;34m\u001b[0m\u001b[0m\n\u001b[1;32m     28\u001b[0m             \u001b[0;31m# compute the facial embedding for the face\u001b[0m\u001b[0;34m\u001b[0m\u001b[0;34m\u001b[0m\u001b[0;34m\u001b[0m\u001b[0m\n",
      "\u001b[0;32m~/anaconda3/envs/py_env/lib/python3.7/site-packages/face_recognition/api.py\u001b[0m in \u001b[0;36mface_locations\u001b[0;34m(img, number_of_times_to_upsample, model)\u001b[0m\n\u001b[1;32m    114\u001b[0m     \"\"\"\n\u001b[1;32m    115\u001b[0m     \u001b[0;32mif\u001b[0m \u001b[0mmodel\u001b[0m \u001b[0;34m==\u001b[0m \u001b[0;34m\"cnn\"\u001b[0m\u001b[0;34m:\u001b[0m\u001b[0;34m\u001b[0m\u001b[0;34m\u001b[0m\u001b[0m\n\u001b[0;32m--> 116\u001b[0;31m         \u001b[0;32mreturn\u001b[0m \u001b[0;34m[\u001b[0m\u001b[0m_trim_css_to_bounds\u001b[0m\u001b[0;34m(\u001b[0m\u001b[0m_rect_to_css\u001b[0m\u001b[0;34m(\u001b[0m\u001b[0mface\u001b[0m\u001b[0;34m.\u001b[0m\u001b[0mrect\u001b[0m\u001b[0;34m)\u001b[0m\u001b[0;34m,\u001b[0m \u001b[0mimg\u001b[0m\u001b[0;34m.\u001b[0m\u001b[0mshape\u001b[0m\u001b[0;34m)\u001b[0m \u001b[0;32mfor\u001b[0m \u001b[0mface\u001b[0m \u001b[0;32min\u001b[0m \u001b[0m_raw_face_locations\u001b[0m\u001b[0;34m(\u001b[0m\u001b[0mimg\u001b[0m\u001b[0;34m,\u001b[0m \u001b[0mnumber_of_times_to_upsample\u001b[0m\u001b[0;34m,\u001b[0m \u001b[0;34m\"cnn\"\u001b[0m\u001b[0;34m)\u001b[0m\u001b[0;34m]\u001b[0m\u001b[0;34m\u001b[0m\u001b[0;34m\u001b[0m\u001b[0m\n\u001b[0m\u001b[1;32m    117\u001b[0m     \u001b[0;32melse\u001b[0m\u001b[0;34m:\u001b[0m\u001b[0;34m\u001b[0m\u001b[0;34m\u001b[0m\u001b[0m\n\u001b[1;32m    118\u001b[0m         \u001b[0;32mreturn\u001b[0m \u001b[0;34m[\u001b[0m\u001b[0m_trim_css_to_bounds\u001b[0m\u001b[0;34m(\u001b[0m\u001b[0m_rect_to_css\u001b[0m\u001b[0;34m(\u001b[0m\u001b[0mface\u001b[0m\u001b[0;34m)\u001b[0m\u001b[0;34m,\u001b[0m \u001b[0mimg\u001b[0m\u001b[0;34m.\u001b[0m\u001b[0mshape\u001b[0m\u001b[0;34m)\u001b[0m \u001b[0;32mfor\u001b[0m \u001b[0mface\u001b[0m \u001b[0;32min\u001b[0m \u001b[0m_raw_face_locations\u001b[0m\u001b[0;34m(\u001b[0m\u001b[0mimg\u001b[0m\u001b[0;34m,\u001b[0m \u001b[0mnumber_of_times_to_upsample\u001b[0m\u001b[0;34m,\u001b[0m \u001b[0mmodel\u001b[0m\u001b[0;34m)\u001b[0m\u001b[0;34m]\u001b[0m\u001b[0;34m\u001b[0m\u001b[0;34m\u001b[0m\u001b[0m\n",
      "\u001b[0;32m~/anaconda3/envs/py_env/lib/python3.7/site-packages/face_recognition/api.py\u001b[0m in \u001b[0;36m_raw_face_locations\u001b[0;34m(img, number_of_times_to_upsample, model)\u001b[0m\n\u001b[1;32m     98\u001b[0m     \"\"\"\n\u001b[1;32m     99\u001b[0m     \u001b[0;32mif\u001b[0m \u001b[0mmodel\u001b[0m \u001b[0;34m==\u001b[0m \u001b[0;34m\"cnn\"\u001b[0m\u001b[0;34m:\u001b[0m\u001b[0;34m\u001b[0m\u001b[0;34m\u001b[0m\u001b[0m\n\u001b[0;32m--> 100\u001b[0;31m         \u001b[0;32mreturn\u001b[0m \u001b[0mcnn_face_detector\u001b[0m\u001b[0;34m(\u001b[0m\u001b[0mimg\u001b[0m\u001b[0;34m,\u001b[0m \u001b[0mnumber_of_times_to_upsample\u001b[0m\u001b[0;34m)\u001b[0m\u001b[0;34m\u001b[0m\u001b[0;34m\u001b[0m\u001b[0m\n\u001b[0m\u001b[1;32m    101\u001b[0m     \u001b[0;32melse\u001b[0m\u001b[0;34m:\u001b[0m\u001b[0;34m\u001b[0m\u001b[0;34m\u001b[0m\u001b[0m\n\u001b[1;32m    102\u001b[0m         \u001b[0;32mreturn\u001b[0m \u001b[0mface_detector\u001b[0m\u001b[0;34m(\u001b[0m\u001b[0mimg\u001b[0m\u001b[0;34m,\u001b[0m \u001b[0mnumber_of_times_to_upsample\u001b[0m\u001b[0;34m)\u001b[0m\u001b[0;34m\u001b[0m\u001b[0;34m\u001b[0m\u001b[0m\n",
      "\u001b[0;31mKeyboardInterrupt\u001b[0m: "
     ]
    }
   ],
   "source": [
    "obj = EncodeFaces('/home/dai/Documents/pgdai/project/project Data/test/temp_train_data/')\n",
    "obj.encodeFaces(detection_method='cnn')"
   ]
  },
  {
   "cell_type": "code",
   "execution_count": 14,
   "metadata": {},
   "outputs": [
    {
     "name": "stdout",
     "output_type": "stream",
     "text": [
      "[INFO] serializing encodings...\n"
     ]
    }
   ],
   "source": [
    "obj.dumpEncoding('/home/dai/Documents/pgdai/project/FFR/embedding/clstr_encoding.pickle')"
   ]
  },
  {
   "cell_type": "code",
   "execution_count": 32,
   "metadata": {},
   "outputs": [
    {
     "name": "stderr",
     "output_type": "stream",
     "text": [
      "usage: ipykernel_launcher.py [-h] -i DATASET -e ENCODINGS\n",
      "                             [-d DETECTION_METHOD]\n",
      "ipykernel_launcher.py: error: the following arguments are required: -i/--dataset, -e/--encodings\n"
     ]
    },
    {
     "ename": "SystemExit",
     "evalue": "2",
     "output_type": "error",
     "traceback": [
      "An exception has occurred, use %tb to see the full traceback.\n",
      "\u001b[0;31mSystemExit\u001b[0m\u001b[0;31m:\u001b[0m 2\n"
     ]
    },
    {
     "name": "stderr",
     "output_type": "stream",
     "text": [
      "/home/dai/anaconda3/envs/py_env/lib/python3.7/site-packages/IPython/core/interactiveshell.py:3327: UserWarning: To exit: use 'exit', 'quit', or Ctrl-D.\n",
      "  warn(\"To exit: use 'exit', 'quit', or Ctrl-D.\", stacklevel=1)\n"
     ]
    }
   ],
   "source": [
    "# python face_encoding.py --dataset dataset --encodings encodings.pickle\n",
    "# construct the argument parser and parse the arguments\n",
    "ap = argparse.ArgumentParser()\n",
    "ap.add_argument(\"-i\", \"--dataset\", required=True, \n",
    "                help=\"path to input directory of faces + images\")\n",
    "ap.add_argument(\"-e\", \"--encodings\", required=True, \n",
    "                help=\"path to serialized db of facial encodings\")\n",
    "ap.add_argument(\"-d\", \"--detection-method\", type=str, default=\"cnn\", \n",
    "                help=\"face detection model to use: either `hog` or `cnn`\")\n",
    "args = vars(ap.parse_args())\n",
    "if all(v is not None for v in [args[\"dataset\"], args[\"encodings\"], args[\"detection_method\"]]):\n",
    "    obj = EncodeFaces('/home/dai/Documents/pgdai/project/project Data/temp_test_data')\n",
    "    obj.encodeFaces(detection_method='cnn')\n",
    "    obj.dumpEncoding('/home/dai/Documents/pgdai/project/project Data/cnn_encoding.pickle')"
   ]
  },
  {
   "cell_type": "code",
   "execution_count": 15,
   "metadata": {},
   "outputs": [
    {
     "name": "stdout",
     "output_type": "stream",
     "text": [
      "Help on package face_recognition:\n",
      "\n",
      "NAME\n",
      "    face_recognition - # -*- coding: utf-8 -*-\n",
      "\n",
      "PACKAGE CONTENTS\n",
      "    api\n",
      "    face_detection_cli\n",
      "    face_recognition_cli\n",
      "\n",
      "DATA\n",
      "    __email__ = 'ageitgey@gmail.com'\n",
      "\n",
      "VERSION\n",
      "    1.2.3\n",
      "\n",
      "AUTHOR\n",
      "    Adam Geitgey\n",
      "\n",
      "FILE\n",
      "    /home/dai/anaconda3/envs/py_env/lib/python3.7/site-packages/face_recognition/__init__.py\n",
      "\n",
      "\n"
     ]
    }
   ],
   "source": [
    "help(face_recognition)"
   ]
  },
  {
   "cell_type": "code",
   "execution_count": null,
   "metadata": {},
   "outputs": [],
   "source": []
  }
 ],
 "metadata": {
  "kernelspec": {
   "display_name": "Python 3",
   "language": "python",
   "name": "python3"
  },
  "language_info": {
   "codemirror_mode": {
    "name": "ipython",
    "version": 3
   },
   "file_extension": ".py",
   "mimetype": "text/x-python",
   "name": "python",
   "nbconvert_exporter": "python",
   "pygments_lexer": "ipython3",
   "version": "3.7.6"
  }
 },
 "nbformat": 4,
 "nbformat_minor": 2
}
